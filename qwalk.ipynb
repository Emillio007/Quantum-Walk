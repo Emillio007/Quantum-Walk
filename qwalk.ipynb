{
 "cells": [
  {
   "cell_type": "markdown",
   "metadata": {},
   "source": [
    "# A Quantum Walk\n",
    "\n",
    "$\\textit{Group 1: Emil, Robin, Ege, Filippo, Netta \\& Oxana}$\n",
    "\n",
    "Performing a quantum random walk in Hilbert space:\n",
    "\n",
    "$\\mathcal{H} = \\mathcal{H_c} \\otimes \\mathcal{H_p}$"
   ]
  },
  {
   "cell_type": "code",
   "execution_count": null,
   "metadata": {},
   "outputs": [],
   "source": [
    "#imports \n",
    "import numpy as np\n",
    "import qiskit as q\n",
    "import matplotlib.pyplot as plt\n",
    "\n",
    "from qiskit.circuit.library.standard_gates import XGate, HGate\n",
    "from qiskit_ibm_runtime import QiskitRuntimeService #, Sampler\n",
    "from qiskit.primitives import StatevectorSampler\n",
    "from qiskit_aer import AerSimulator\n",
    "from qiskit_aer.primitives import Sampler\n",
    "from qiskit.quantum_info.operators import Operator\n",
    "from utils import *\n",
    "from copy import deepcopy"
   ]
  },
  {
   "cell_type": "markdown",
   "metadata": {},
   "source": [
    "## Walk on a line\n",
    "\n",
    "For this example, we are going to perform a walk on the line and test, if we get the expected distributions related to the coin operators and initial coin states.\n",
    "\n",
    "For this particular case, we are going to use the following parameters:\n",
    "\n",
    " - Number of position space qubits: $N_p = 7$\n",
    " - Number of coin space qubits: $N_c = 1$\n",
    " - Number of steps for each sample: $T = 50$\n",
    " - Number of samples: $n = 1024$"
   ]
  },
  {
   "cell_type": "code",
   "execution_count": null,
   "metadata": {},
   "outputs": [],
   "source": [
    "\"\"\"params:\"\"\"\n",
    "Np = 7\n",
    "Nc = 1\n",
    "T = 50\n",
    "n = 1024       \n",
    "     \n",
    "it_Np = range(Np)\n",
    "it_n = range(n)\n",
    "it_T = range(T)\n",
    "\n",
    "\"\"\"init:\"\"\"\n",
    "#service = QiskitRuntimeService()\n",
    "#sim = AerSimulator.from_backend(service.least_busy(min_num_qubits=Np+Nc))\n",
    "\n",
    "qreg = q.QuantumRegister(Np+Nc)\n",
    "creg_pos = q.ClassicalRegister(Np, \"position\")\n",
    "creg_coin = q.ClassicalRegister(Nc, \"coin\")\n",
    "qc = q.QuantumCircuit(qreg, creg_pos, creg_coin) #number of qbits and number of cbits (to store position information in and finally coin (all qbits must be measured when using primitives))\n"
   ]
  },
  {
   "cell_type": "code",
   "execution_count": null,
   "metadata": {},
   "outputs": [],
   "source": [
    "\"\"\" Sampling from IBMQ:\"\"\"\n",
    "\n",
    "#sampler = Sampler(service.least_busy(operational=True))\n",
    "\n",
    "\"\"\" Sampling with Statevector Simulator:\"\"\"\n",
    "\n",
    "sampler = StatevectorSampler()"
   ]
  },
  {
   "cell_type": "markdown",
   "metadata": {},
   "source": [
    "### Operators:\n",
    "\n",
    "Coins:\n",
    "\n",
    "$H = \\frac{1}{\\sqrt{2}} \\begin{pmatrix} 1 & 1 \\\\ 1 & -1 \\end{pmatrix}$, $X = \\begin{pmatrix} 0 & 1 \\\\ 1 & 0 \\end{pmatrix}$ and $C_Y = \\frac{1}{\\sqrt{2}} \\begin{pmatrix} 1 & i \\\\ i & 1 \\end{pmatrix}$\n",
    "\n",
    "Forward step operator:\n",
    "\n",
    "$S_F = \\sum_{j=0}^{127} \\ket{j+1}\\bra{j}$\n",
    "\n",
    "Important note: Qiskit has opposite bit-ordering!"
   ]
  },
  {
   "cell_type": "code",
   "execution_count": null,
   "metadata": {},
   "outputs": [],
   "source": [
    "S_F = q.QuantumCircuit(Np)\n",
    "\n",
    "for i in it_Np:\n",
    "    current_qbit = Np-1-i\n",
    "    if current_qbit == 0:\n",
    "        g = XGate()\n",
    "    else:\n",
    "        g = XGate().control(num_ctrl_qubits=current_qbit)\n",
    "    S_F.append(g, S_F.qregs[0][0:current_qbit+1])\n",
    "\n",
    "#we need to invert:\n",
    "S_F = S_F.inverse()\n",
    "\n",
    "S_F.draw(\"mpl\")"
   ]
  },
  {
   "cell_type": "markdown",
   "metadata": {},
   "source": [
    "Backward step operator:\n",
    "\n",
    "$S_B = S_F^\\dagger$"
   ]
  },
  {
   "cell_type": "code",
   "execution_count": null,
   "metadata": {},
   "outputs": [],
   "source": [
    "S_B = S_F.inverse()\n",
    "S_B.draw(\"mpl\")"
   ]
  },
  {
   "cell_type": "markdown",
   "metadata": {},
   "source": [
    "The complete step operator:\n",
    "\n",
    "$S = \\ket{0}\\bra{0}_c \\otimes S_F + \\ket{1}\\bra{1}_c \\otimes S_B$\n",
    "\n",
    "We can now assemble the full Propagation operator:\n",
    "\n",
    "$U = S \\cdot (C \\otimes \\mathbb{1}_p)$"
   ]
  },
  {
   "cell_type": "code",
   "execution_count": null,
   "metadata": {},
   "outputs": [],
   "source": [
    "S_Fgate = S_F.to_gate().control(1)\n",
    "S_Bgate = S_B.to_gate().control(1)\n",
    "\n",
    "def propagator(num_qbits : int, coin_operator : q.circuit.Gate) -> q.circuit.Instruction:\n",
    "    \n",
    "    #The final building block: the propagate operator:\n",
    "    U = q.QuantumCircuit(num_qbits)\n",
    "\n",
    "    #Coin flip:\n",
    "    U.append(coin_operator, U.qregs[0][0:1])\n",
    "\n",
    "    #Controlled step forwards:\n",
    "    U.append(S_Fgate, U.qregs[0])\n",
    "\n",
    "    #Negate coin:\n",
    "    U.append(XGate(), U.qregs[0][0:1])\n",
    "\n",
    "    #Controlled step backwards:\n",
    "    U.append(S_Bgate, U.qregs[0])\n",
    "\n",
    "    #Negate coin:\n",
    "    U.append(XGate(), U.qregs[0][0:1])\n",
    "\n",
    "    return U.to_instruction()"
   ]
  },
  {
   "cell_type": "markdown",
   "metadata": {},
   "source": [
    "## Running the walk:"
   ]
  },
  {
   "cell_type": "code",
   "execution_count": null,
   "metadata": {},
   "outputs": [],
   "source": [
    "def perform_walk(qc : q.QuantumCircuit,\n",
    "                 coin_operator : q.circuit.Gate,\n",
    "                 coin_state : list[complex], position_state : dict[int],\n",
    "                 creg_coin : q.ClassicalRegister, creg_pos : q.ClassicalRegister,\n",
    "                 H_input = False):\n",
    "    \n",
    "    U = propagator(Np+Nc, coin_operator)\n",
    "\n",
    "    all_qbits = qc.qregs[0]\n",
    "    position_qbits = qc.qregs[0][1:Np+1]\n",
    "\n",
    "    #initialize states:\n",
    "    qc.initialize(coin_state, 0)\n",
    "    for key in position_state:\n",
    "        if position_state[key] == 1:\n",
    "            qc.x(key)\n",
    "        \n",
    "    #If instructed, Hadamard the input\n",
    "    if H_input:\n",
    "        qc.h(position_qbits)\n",
    "\n",
    "    for t in it_T:\n",
    "        #propagate\n",
    "        qc.append(U, all_qbits)\n",
    "\n",
    "    #measure (statevecsim requires measurement at end):\n",
    "    qc.measure(position_qbits, creg_pos) #TODO: Need better way to address certain qubits\n",
    "    qc.measure(0, creg_coin)"
   ]
  },
  {
   "cell_type": "code",
   "execution_count": null,
   "metadata": {},
   "outputs": [],
   "source": [
    "def do_run(coin_operator : q.circuit.Gate, coin_inputs : dict[complex], position_inputs : dict[int], start : int, showfig : bool = True) -> tuple[plt.Figure, plt.Axes]:\n",
    "    pubs = []\n",
    "\n",
    "    for input in coin_inputs:\n",
    "        qc_instance = deepcopy(qc)\n",
    "        perform_walk(qc_instance, coin_operator, coin_inputs[input], position_state=position_inputs, creg_coin=creg_coin, creg_pos=creg_pos)\n",
    "        pubs.append((qc_instance))\n",
    "\n",
    "    job = sampler.run(pubs, shots=n)\n",
    "    result = job.result() #extract the first pub's results\n",
    "    n_res = len(result)\n",
    "    fig, ax = plt.subplots(ncols=n_res)\n",
    "    fig.set_size_inches(4*n_res, 5)\n",
    "\n",
    "    for i in range(n_res):\n",
    "        posdata = result[i].data.position.array\n",
    "        recentered_result = np.array(posdata, dtype=int).flatten() - start #recenter\n",
    "        ax[i].hist(recentered_result, histtype=\"step\")\n",
    "        ax[i].set_title(list(coin_inputs.keys())[i])\n",
    "\n",
    "    if showfig:\n",
    "        plt.show()\n",
    "\n",
    "    return fig, ax"
   ]
  },
  {
   "cell_type": "markdown",
   "metadata": {},
   "source": [
    "### H coin\n",
    "\n",
    "First, let's try the Hadamard coin with the following input states: ${\\ket{0}, \\ket{1}, \\ket{+i}}$"
   ]
  },
  {
   "cell_type": "code",
   "execution_count": null,
   "metadata": {},
   "outputs": [],
   "source": [
    "coin_operator = HGate()\n",
    "\n",
    "#initial position\n",
    "#position_state = 63 is 0111111 in binary. NOTE: Qiskit has opposite MSB-LSB\n",
    "start = 63\n",
    "position_inputs = {\n",
    "    1: 1, 2: 1, 3: 1, 4: 1, 5: 1, 6: 1, 7: 0\n",
    "}\n",
    "\n",
    "coin_inputs = {\n",
    "    \"0\": [1., 0.],\n",
    "    \"1\": [0., 1.],\n",
    "    \"+i\": [1/np.sqrt(2), 1j/np.sqrt(2)]\n",
    "}\n",
    "\n",
    "standard_args = coin_inputs, position_inputs, start\n",
    "\n",
    "do_run(coin_operator, *standard_args)"
   ]
  },
  {
   "cell_type": "markdown",
   "metadata": {},
   "source": [
    "### X coin\n",
    "\n",
    "same inputs"
   ]
  },
  {
   "cell_type": "code",
   "execution_count": null,
   "metadata": {},
   "outputs": [],
   "source": [
    "coin_operator = XGate()\n",
    "\n",
    "do_run(coin_operator, *standard_args)"
   ]
  },
  {
   "cell_type": "markdown",
   "metadata": {},
   "source": [
    "No propagation! This is because the coin must superimpose for the walker to get superimposed. If no superposition, the propagator just repeatedly steps forwards and backwards on the same step.\n",
    "\n",
    "In other words, the coin must have off-diagonals to walk at all.\n",
    "\n",
    "Finally, let's try out the symmetric coin:\n",
    "\n",
    "### $C_Y$ coin\n",
    "\n",
    "$C_Y = \\frac{1}{\\sqrt{2}} \\begin{pmatrix} 1 & i \\\\ i & 1 \\end{pmatrix}$"
   ]
  },
  {
   "cell_type": "code",
   "execution_count": null,
   "metadata": {},
   "outputs": [],
   "source": [
    "CY_op = Operator( (1 / np.sqrt(2)) * np.array([\n",
    "    [1, 1j],\n",
    "    [1j, 1]\n",
    "]))\n",
    "\n",
    "CY = q.QuantumCircuit(1).unitary(CY_op, 0)\n",
    "\n",
    "do_run(CY_op, *standard_args)"
   ]
  },
  {
   "cell_type": "markdown",
   "metadata": {},
   "source": [
    "Unexpected. Why did we get asymmetric distributions when using $C_Y$? The StatevectorSimulator simulates the statevector deterministically, so noise is not an issue. \n",
    "\n",
    "A few reasons why:\n",
    "1. Implementing arbitrary unitaries in Qiskit performs gate synthesis into discrete native gate-set. If no native decomposition exists, the unitary is approximated to certain error, $\\varepsilon$. \n",
    "    BUT, maybe StatevectorSampler accepts arbitrary unitaries?\n",
    "2. Other? "
   ]
  }
 ],
 "metadata": {
  "kernelspec": {
   "display_name": "Python 3",
   "language": "python",
   "name": "python3"
  },
  "language_info": {
   "codemirror_mode": {
    "name": "ipython",
    "version": 3
   },
   "file_extension": ".py",
   "mimetype": "text/x-python",
   "name": "python",
   "nbconvert_exporter": "python",
   "pygments_lexer": "ipython3",
   "version": "3.12.7"
  }
 },
 "nbformat": 4,
 "nbformat_minor": 2
}
